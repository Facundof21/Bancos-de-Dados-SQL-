{
 "cells": [
  {
   "cell_type": "markdown",
   "metadata": {
    "id": "4T5dCtwYXFS0"
   },
   "source": [
    "# **MÓDULO 24 - Bancos de Dados + SQL**"
   ]
  },
  {
   "cell_type": "markdown",
   "metadata": {
    "id": "tGub_MhcXTfu"
   },
   "source": [
    "Para nossa atividade inicial de SQL trabalharemos com uma base de vendas.\n",
    "Abaixo temos o ambiente de preparo para trabalharmos com o SQL lite."
   ]
  },
  {
   "cell_type": "code",
   "execution_count": 1,
   "metadata": {
    "id": "eQtWi0CfXCPn"
   },
   "outputs": [],
   "source": [
    "import sqlite3 #Importando a biblioteca necessária\n",
    "import pandas as pd"
   ]
  },
  {
   "cell_type": "code",
   "execution_count": 2,
   "metadata": {
    "id": "yKsW2EEpXQTK"
   },
   "outputs": [],
   "source": [
    "df_vendas = pd.read_csv(\"TB_VENDAS_TAREFA.csv\", delimiter=';')"
   ]
  },
  {
   "cell_type": "code",
   "execution_count": 3,
   "metadata": {
    "colab": {
     "base_uri": "https://localhost:8080/"
    },
    "id": "vbdvMKZgXtT5",
    "outputId": "4ce7afac-73b7-4ff8-b010-2021cc410f6f"
   },
   "outputs": [
    {
     "data": {
      "text/plain": [
       "24"
      ]
     },
     "execution_count": 3,
     "metadata": {},
     "output_type": "execute_result"
    }
   ],
   "source": [
    "conn = sqlite3.connect(':memory:')\n",
    "df_vendas.to_sql('tb_vendas', conn, index=False, if_exists='replace')"
   ]
  },
  {
   "cell_type": "code",
   "execution_count": 4,
   "metadata": {
    "id": "Z3-elg3aXuiM"
   },
   "outputs": [],
   "source": [
    "def run_query(query):\n",
    "    return pd.read_sql_query(query, conn)"
   ]
  },
  {
   "cell_type": "markdown",
   "metadata": {
    "id": "Z_EFXuNLXz7m"
   },
   "source": [
    "# 1) Faça uma consulta que retorne todos os dados da nossa tabela de vendas, com todas linhas e todas colunas.\n"
   ]
  },
  {
   "cell_type": "code",
   "execution_count": 6,
   "metadata": {
    "id": "XQr_MBvmb4yC"
   },
   "outputs": [
    {
     "name": "stdout",
     "output_type": "stream",
     "text": [
      "    ID_COMPRA  ID_CLIENTE   PRODUTO VALOR_UNID  UNIDADES\n",
      "0        1247        9081  CAMISETA       34,5         2\n",
      "1        1248        9081     CALCA       89,9         1\n",
      "2        1250        9560  CAMISETA       34,5         1\n",
      "3        1249        9630   BERMUDA       79,5         2\n",
      "4        1251        9425  CAMISETA       34,5         3\n",
      "5        1252        9425   VESTIDO        102         1\n",
      "6        1253        9481     CALCA       89,9         2\n",
      "7        1254        9785      MEIA       25,9         1\n",
      "8        1255        9786     CALCA       89,9         2\n",
      "9        1256        9787   VESTIDO        102         1\n",
      "10       1257        9788     CALCA       89,9         2\n",
      "11       1258        9789  CAMISETA       34,5         3\n",
      "12       1259        9790  CAMISETA       34,5         1\n",
      "13       1260        9791   BERMUDA       79,5         2\n",
      "14       1261        9792  CAMISETA       34,5         2\n",
      "15       1262        9793     CALCA       89,9         2\n",
      "16       1263        9794     CALCA       89,9         1\n",
      "17       1264        9795   BERMUDA       79,5         2\n",
      "18       1265        9796  CAMISETA       34,5         4\n",
      "19       1266        9797  CAMISETA       34,5         1\n",
      "20       1267        9798   VESTIDO        102         2\n",
      "21       1268        9799      MEIA       25,9         3\n",
      "22       1269        9800  CAMISETA       34,5         2\n",
      "23       1270        9801     CALCA       89,9         1\n"
     ]
    }
   ],
   "source": [
    "query = \"SELECT * FROM tb_vendas\"\n",
    "result_df = run_query(query)\n",
    "print(result_df)"
   ]
  },
  {
   "cell_type": "markdown",
   "metadata": {
    "id": "nyhYEkRLYMNY"
   },
   "source": [
    "# 2) Faça uma consulta que retorne apenas 10 linhas da coluna produto.\n"
   ]
  },
  {
   "cell_type": "code",
   "execution_count": 8,
   "metadata": {
    "id": "LfKnVQUCYLxE"
   },
   "outputs": [
    {
     "name": "stdout",
     "output_type": "stream",
     "text": [
      "    PRODUTO\n",
      "0  CAMISETA\n",
      "1     CALCA\n",
      "2  CAMISETA\n",
      "3   BERMUDA\n",
      "4  CAMISETA\n",
      "5   VESTIDO\n",
      "6     CALCA\n",
      "7      MEIA\n",
      "8     CALCA\n",
      "9   VESTIDO\n"
     ]
    }
   ],
   "source": [
    "query = \"SELECT PRODUTO FROM tb_vendas limit 10\"\n",
    "result_df = run_query(query)\n",
    "print(result_df)"
   ]
  },
  {
   "cell_type": "markdown",
   "metadata": {
    "id": "-hqcrP6CYiGF"
   },
   "source": [
    "# 3) Faça uma consulta que retorne a média do valor por unidade e também das unidades vendidas. Não se esqueça de renomear o nome das colunas ao cria-las."
   ]
  },
  {
   "cell_type": "code",
   "execution_count": 17,
   "metadata": {
    "id": "v1aJMTkMYhm4"
   },
   "outputs": [
    {
     "name": "stdout",
     "output_type": "stream",
     "text": [
      "Média do valor das unidades:\n",
      "    MEDIA_DO_VALOR_UNID\n",
      "0            63.416667\n",
      "Média das unidades vendidas:\n",
      "    MEDIA_DAS_UNIDADES\n",
      "0            1.833333\n"
     ]
    }
   ],
   "source": [
    "query = \"SELECT AVG (VALOR_UNID) AS MEDIA_DO_VALOR_UNID FROM tb_vendas\"  \n",
    "result_df = run_query(query)\n",
    "print(\"Média do valor das unidades:\\n\", result_df)\n",
    "\n",
    "query = \"SELECT AVG (UNIDADES) AS MEDIA_DAS_UNIDADES FROM tb_vendas\"  \n",
    "result_df = run_query(query)\n",
    "print(\"Média das unidades vendidas:\\n\", result_df)"
   ]
  },
  {
   "cell_type": "markdown",
   "metadata": {
    "id": "UJUIsVjAY8Jz"
   },
   "source": [
    "# 4) Note que na nossa tabela não temos o total de valor gasto por compra, temos o valor do produto e a quantidade vendida, para termos o valor total precisamos multiplicar essas duas colunas e para multiplicar colunas usamos o *.\n",
    "# Faça uma consulta que retorne a coluna ID_COMPRA, ID_CLIENTE e o valor total gasto.\n",
    "\n",
    "Ex: SELECT TICKET_MEDIO*UNIDADE FROM TB_EXEMPLO"
   ]
  },
  {
   "cell_type": "code",
   "execution_count": 22,
   "metadata": {
    "id": "rNQfkp6RY7qa"
   },
   "outputs": [
    {
     "name": "stdout",
     "output_type": "stream",
     "text": [
      "    ID_COMPRA  ID_CLIENTE  VALOR_TOTAL_GASTO\n",
      "0        1247        9081                 68\n",
      "1        1248        9081                 89\n",
      "2        1250        9560                 34\n",
      "3        1249        9630                158\n",
      "4        1251        9425                102\n",
      "5        1252        9425                102\n",
      "6        1253        9481                178\n",
      "7        1254        9785                 25\n",
      "8        1255        9786                178\n",
      "9        1256        9787                102\n",
      "10       1257        9788                178\n",
      "11       1258        9789                102\n",
      "12       1259        9790                 34\n",
      "13       1260        9791                158\n",
      "14       1261        9792                 68\n",
      "15       1262        9793                178\n",
      "16       1263        9794                 89\n",
      "17       1264        9795                158\n",
      "18       1265        9796                136\n",
      "19       1266        9797                 34\n",
      "20       1267        9798                204\n",
      "21       1268        9799                 75\n",
      "22       1269        9800                 68\n",
      "23       1270        9801                 89\n"
     ]
    }
   ],
   "source": [
    "query = \"SELECT ID_COMPRA, ID_CLIENTE, (VALOR_UNID*UNIDADES) AS VALOR_TOTAL_GASTO FROM tb_vendas\"\n",
    "result_df = run_query(query)\n",
    "print(result_df)"
   ]
  },
  {
   "cell_type": "markdown",
   "metadata": {
    "id": "tuTDx7W3Zxlp"
   },
   "source": [
    "# 5) [DESAFIO] Faça uma consulta que traz a média do valor total gasto que foi calculado no exercício anterior. Note que não queremos a média por pedido e sim a média total, apenas essa informação deve vir na consulta."
   ]
  },
  {
   "cell_type": "code",
   "execution_count": 29,
   "metadata": {
    "id": "UPUskwJoaEgy"
   },
   "outputs": [
    {
     "name": "stdout",
     "output_type": "stream",
     "text": [
      "Média do valor total gasto:\n",
      "    MEDIA_DO_TOTAL_GASTO\n",
      "0               108.625\n"
     ]
    }
   ],
   "source": [
    "query = \"SELECT AVG((VALOR_UNID*UNIDADES)) AS MEDIA_DO_TOTAL_GASTO FROM tb_vendas\"\n",
    "result_df = run_query(query)\n",
    "# Exibir o resultado\n",
    "print(\"Média do valor total gasto:\\n\", result_df)"
   ]
  },
  {
   "cell_type": "markdown",
   "metadata": {
    "id": "0ezDHHigaONG"
   },
   "source": [
    "# 6) Diferencie com suas palavras, considerando o repertório que tem criado da área de dados, a utilizadade do SQL e do Python para ciência de dados.\n",
    "Minimo 2 linhas."
   ]
  },
  {
   "cell_type": "code",
   "execution_count": null,
   "metadata": {},
   "outputs": [],
   "source": [
    "# SQL é essencial para a manipulação e extração de dados diretamente de bancos relacionais, permitindo realizar consultas eficientes com comandos como SELECT, calcular médias com AVG, somar valores com SUM e renomear colunas com AS. \n",
    "# Já o Python é mais versátil, sendo usado para análise avançada, visualização e Machine Learning, integrando bibliotecas como Pandas para processar os dados extraídos via SQL.\n",
    "# Porém acredito que os dois sejam essenciais para ciancia de dados, podemos usar o python para fazer os pre-processamento de dados e logo depois fazer verificações desses dados com o SQL"
   ]
  },
  {
   "cell_type": "markdown",
   "metadata": {
    "id": "F1xh_-UPaZU2"
   },
   "source": [
    "#7) Diferencie com suas palavras banco de dados relacionais de não relacionais.\n",
    "Minimo 3 linhas."
   ]
  },
  {
   "cell_type": "code",
   "execution_count": null,
   "metadata": {},
   "outputs": [],
   "source": [
    "# Pelo que vi sobre SQL e bancos de dados, acredito que os bancos NoSQL (não relacionais) armazenam dados de forma mais flexível e podem exigir mais pré-processamento para estruturação. \n",
    "# Já os bancos relacionais organizam os dados em tabelas bem definidas, facilitando a consulta. \n",
    "# No entanto, mesmo os dados vindos de um banco relacional podem precisar de pré-processamento, pois podem conter inconsistências, valores nulos ou formatos inadequados para análise."
   ]
  },
  {
   "cell_type": "markdown",
   "metadata": {
    "id": "GkKpxl52atNQ"
   },
   "source": [
    "#8) Queremos saber da sua opinião, acredita que o SQL pode ser mais prático que o Python para consultas rápidas? Justifique.\n",
    "Muitas vezes durante a carreia você terá que escolher qual linguagem utilizar para cada momento afim de entregar o que é solicitado o mais rápido e com qualidade possível, exercite sua argumentação = )\n",
    "\n",
    "Minimo 3 linhas."
   ]
  },
  {
   "cell_type": "code",
   "execution_count": null,
   "metadata": {},
   "outputs": [],
   "source": [
    "# Acredito que para uma analise ou uma consulta rapida, seja sim o ideal usar o SQL, ele ajuda mais e vejo ele com mais praticidade.\n",
    "# Já o Python vejo ele como uma ferramenta para tratar dados mais complexos, e não em sí fazer verificações, porém no momento até dá pra fazer, porém acho que o Python seja ideal para tratar dados mais complexos e tirar ideias sobre esses dados,\n",
    "# E assim logo depois usar o SQL para fazer verificações sobre os dados. "
   ]
  }
 ],
 "metadata": {
  "colab": {
   "provenance": []
  },
  "kernelspec": {
   "display_name": "Python 3 (ipykernel)",
   "language": "python",
   "name": "python3"
  },
  "language_info": {
   "codemirror_mode": {
    "name": "ipython",
    "version": 3
   },
   "file_extension": ".py",
   "mimetype": "text/x-python",
   "name": "python",
   "nbconvert_exporter": "python",
   "pygments_lexer": "ipython3",
   "version": "3.12.7"
  }
 },
 "nbformat": 4,
 "nbformat_minor": 4
}
